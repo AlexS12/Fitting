{
 "cells": [
  {
   "cell_type": "markdown",
   "metadata": {},
   "source": [
    "# Tomography\n"
   ]
  },
  {
   "cell_type": "markdown",
   "metadata": {},
   "source": [
    "The goal of this notebook is doing some improvements and understand better tomography and the photon detection, in contrast with the notebook \"Fitting r\", which is for trying new things that I don't know how to do in Python.\n"
   ]
  },
  {
   "cell_type": "code",
   "execution_count": 2,
   "metadata": {
    "collapsed": false
   },
   "outputs": [],
   "source": [
    "import numpy as np\n",
    "import matplotlib.pyplot as plt\n",
    "from scipy.misc import factorial\n",
    "%matplotlib inline\n",
    "\n",
    "from scipy import optimize\n",
    "from scipy.optimize import minimize\n",
    "import time"
   ]
  },
  {
   "cell_type": "markdown",
   "metadata": {},
   "source": [
    "## Definition of the click probability\n"
   ]
  },
  {
   "cell_type": "markdown",
   "metadata": {},
   "source": [
    "It is known that the detection probability of the detector is: $$R(N)=1-e^{-\\eta N}\\sum_{i=0}^m(1-p_i)\\frac{(\\eta N)^i}{i!}$$\n",
    "Where $N$ (independent variable) is the avereged number of photons, $\\eta$ the efficiency of the detector and $p_i$ the probability for detecting a certain number of photons"
   ]
  },
  {
   "cell_type": "code",
   "execution_count": 3,
   "metadata": {
    "collapsed": false
   },
   "outputs": [],
   "source": [
    "def Click(N, eta, p, G):\n",
    "    \"\"\"\"\n",
    "    Calculates de click probability for a given number of photons\n",
    "    \n",
    "    Parameters\n",
    "    ----------\n",
    "    N: array\n",
    "        (Independent variable). Number of photons\n",
    "    \n",
    "    eta: float\n",
    "        Efficiency of the detector\n",
    "        \n",
    "    p: array\n",
    "        Each element of the array indicates the probability of measuring a\n",
    "        detection of certain number of photons. First element for one photon\n",
    "        detection, second element for two photons detection, ...\n",
    "        \n",
    "    G: int\n",
    "        It indicates the number of elements in 'p' that will be considered.\n",
    "    \n",
    "\n",
    "    \"\"\"\n",
    "    summ = 0\n",
    "    for i in range(0,G):\n",
    "        summ = summ + (1-p[i]) * (eta*N)**i / factorial(i)\n",
    "            \n",
    "    R = 1 - np.exp(-eta*N)*summ\n",
    "    return R"
   ]
  },
  {
   "cell_type": "markdown",
   "metadata": {},
   "source": [
    "## Plot $R(N)$ vs N"
   ]
  },
  {
   "cell_type": "markdown",
   "metadata": {},
   "source": [
    "In this section it is decided what values of $N$, $ \\eta $ and {$p_i$} are used. For the moment only $p_0$, $p_1$ and $p_2$ are used. As $p_0$ corresponds to the dark counts and we want to consider them apart from this formula we fix the probability to zero, $p_0=0$"
   ]
  },
  {
   "cell_type": "code",
   "execution_count": 4,
   "metadata": {
    "collapsed": false
   },
   "outputs": [
    {
     "data": {
      "text/plain": [
       "<matplotlib.legend.Legend at 0x7f5171c40320>"
      ]
     },
     "execution_count": 4,
     "metadata": {},
     "output_type": "execute_result"
    },
    {
     "data": {
      "image/png": "[encoded data removed]",
      "text/plain": [
       "<matplotlib.figure.Figure at 0x7f51a057d390>"
      ]
     },
     "metadata": {},
     "output_type": "display_data"
    }
   ],
   "source": [
    "N   = np.linspace(0.1, 1000, 10000) #Number of photons (independet variable)\n",
    "eta = 0.01 #Efficiency\n",
    "\n",
    "plt.subplot(121)\n",
    "plt.loglog(N, Click (N, eta, np.array([0.0 , 0.1, 0.1]), 3),'b')\n",
    "plt.loglog(N, Click (N, eta, np.array([0.0 , 0.01, 0.1]), 3),'r')\n",
    "plt.loglog(N, Click (N, eta, np.array([0.0 , 0.001, 0.1]), 3),'m')\n",
    "plt.loglog(N, Click (N, eta, np.array([0.0 , 0.0001, 0.1]), 3),'c')\n",
    "\n",
    "plt.xlabel('log(N)', fontsize=20)\n",
    "plt.ylabel('log(R(N))', fontsize=20)\n",
    "plt.legend([0.1, 0.01, 0.001, 0.0001], loc=0)\n",
    "\n",
    "plt.subplot(122)\n",
    "plt.plot(N, Click (N, eta, np.array([0.0 , 0.1, 0.1]), 3),'b')\n",
    "plt.plot(N, Click (N, eta, np.array([0.0 , 0.01, 0.1]), 3),'r')\n",
    "plt.plot(N, Click (N, eta, np.array([0.0 , 0.001, 0.1]), 3),'m')\n",
    "plt.plot(N, Click (N, eta, np.array([0.0 , 0.0001, 0.1]), 3),'c')\n",
    "\n",
    "plt.xlabel('N', fontsize=20)\n",
    "plt.ylabel('R(N)', fontsize=20)\n",
    "plt.legend([0.1, 0.01, 0.001, 0.0001], loc=0)\n"
   ]
  },
  {
   "cell_type": "markdown",
   "metadata": {
    "collapsed": false
   },
   "source": [
    "## What is the role of $p_0$ in the click probability?"
   ]
  },
  {
   "cell_type": "markdown",
   "metadata": {},
   "source": [
    "After following the deduction of $R(N)$ we've realised that $p_0$ has the meaning for the probability of detecting 0 photons. In this section we'll study the implications of this fact.\n",
    "\n",
    "\n",
    "Now we're going to define the same function but ignoring the term n=0. We'll omit this term in the summation and check if the results are still consistent.\n",
    "We know that if we extract the contribution of $p_0$ from the summation this is the result:\n",
    "$$R(N)=1-e^{-\\eta N}(1-p_0)-e^{-\\eta N}\\sum_{i=1}^m(1-p_i)\\frac{(\\eta N)^i}{i!}=R'(N)-e^{-\\eta N}(1-p_0)$$\n",
    "\n",
    "As a consequence of this term there will always be a contribution from $p_0$ in our equation except when $p_0=1$. Let's see how this affect to the result."
   ]
  },
  {
   "cell_type": "code",
   "execution_count": 5,
   "metadata": {
    "collapsed": true
   },
   "outputs": [],
   "source": [
    "def Click_p0(N, eta, p, G):\n",
    "    \"\"\"\"\n",
    "    Calculates de click probability for a given number of photons ignoring \n",
    "    the contribution of p0\n",
    "    \n",
    "    Parameters\n",
    "    ----------\n",
    "    N: array\n",
    "        (Independent variable). Number of photons\n",
    "    \n",
    "    eta: float\n",
    "        Efficiency of the detector\n",
    "        \n",
    "    p: array\n",
    "        Each element of the array indicates the probability of measuring a\n",
    "        detection of certain number of photons. First element for one photon\n",
    "        detection, second element for two photons detection, ...\n",
    "        \n",
    "    G: int\n",
    "        It indicates the number of elements in 'p' that will be considered.\n",
    "    \n",
    "\n",
    "    \"\"\"\n",
    "    summ = 0\n",
    "    for i in range(1,G):\n",
    "        summ = summ + (1-p[i]) * (eta*N)**i / factorial(i)\n",
    "            \n",
    "    R = 1 - np.exp(-eta*N)*summ\n",
    "    return R"
   ]
  },
  {
   "cell_type": "code",
   "execution_count": 6,
   "metadata": {
    "collapsed": false
   },
   "outputs": [
    {
     "data": {
      "text/plain": [
       "<matplotlib.legend.Legend at 0x7f51714dc908>"
      ]
     },
     "execution_count": 6,
     "metadata": {},
     "output_type": "execute_result"
    },
    {
     "data": {
      "image/png": "[encoded data removed]",
      "text/plain": [
       "<matplotlib.figure.Figure at 0x7f51715ba908>"
      ]
     },
     "metadata": {},
     "output_type": "display_data"
    }
   ],
   "source": [
    "N   = np.linspace(0.1, 1000, 10000) #Number of photons (independet variable)\n",
    "eta = 0.01 #Efficiency\n",
    "\n",
    "plt.loglog(N, Click_p0 (N, eta, np.array([0.1, 0.1]), 2),'b')\n",
    "plt.loglog(N, Click_p0 (N, eta, np.array([0.01, 0.1]), 2),'r')\n",
    "plt.loglog(N, Click_p0 (N, eta, np.array([0.001, 0.1]), 2),'m')\n",
    "plt.loglog(N, Click_p0 (N, eta, np.array([0.0001, 0.1]), 2),'c')\n",
    "\n",
    "plt.xlabel('log(N)', fontsize=20)\n",
    "plt.ylabel('log(R(N))', fontsize=20)\n",
    "plt.legend([0.1, 0.01, 0.001, 0.0001], loc=0)\n"
   ]
  },
  {
   "cell_type": "markdown",
   "metadata": {},
   "source": [
    "Comparing this graph with the one considering $p_0$ we realise that the contribution $e^{-\\eta N}(1-p_0)$ plays an important role in the probability of detection.\n",
    "\n",
    "\n",
    "As a consequence we have to think which solution is needed for the dark counts. The solution, and from this point, the procedure will be the next one:\n",
    "Set $p_0=0$ and leave the exponential contribution and consider the dark counts in another variable.\n",
    "\n",
    "$$R(N)=1-e^{-\\eta N}\\sum_{i=0,\\space p_0=0}^m(1-p_i)\\frac{(\\eta N)^i}{i!}+R_{dark}$$\n",
    "\n",
    "$$R(N)-R_{dark}=1-e^{-\\eta N}\\sum_{i=0,\\space p_0=0}^m(1-p_i)\\frac{(\\eta N)^i}{i!}$$\n",
    "\n"
   ]
  },
  {
   "cell_type": "markdown",
   "metadata": {
    "collapsed": false
   },
   "source": [
    "## Minimization of  $\\chi ²$\n",
    " "
   ]
  },
  {
   "cell_type": "markdown",
   "metadata": {},
   "source": [
    "In this section a fit is done for calculating the values of our parameters $\\eta$ and {$p_i$} which minimize the $\\chi^2$ value."
   ]
  },
  {
   "cell_type": "code",
   "execution_count": null,
   "metadata": {
    "collapsed": false
   },
   "outputs": [],
   "source": [
    "def ERR_fun(Arr1, Arr2):\n",
    "    \"\"\"\n",
    "    TODO: writing descripting of the function \n",
    "    Chi-squared\n",
    "    \"\"\"\n",
    "    return np.sum((Arr1-Arr2)**2 / (Arr2)**2)\n",
    "\n",
    "def FUNC2MINIMIZE(Params):\n",
    "    \"\"\"\n",
    "    TODO: writing descripting of the function \n",
    "    \"\"\"\n",
    "    Data_expected = Click(N, Params[0], Params[1:], Params.size-1)\n",
    "    return ERR_fun(Data_simul, Data_expected)\n"
   ]
  },
  {
   "cell_type": "markdown",
   "metadata": {
    "collapsed": false
   },
   "source": [
    "For minimazing the data first we have to generate some sinthetic data, in the future these data will be our experimental points. \n"
   ]
  },
  {
   "cell_type": "code",
   "execution_count": 8,
   "metadata": {
    "collapsed": false
   },
   "outputs": [
    {
     "data": {
      "text/plain": [
       "1.0040121565024762e-05"
      ]
     },
     "execution_count": 8,
     "metadata": {},
     "output_type": "execute_result"
    }
   ],
   "source": [
    "N   = np.linspace(0.1, 1000, 100000) #Number of photons (independet variable)\n",
    "eta = 0.01 #Efficiency\n",
    "p   = np.array([0.0, 0.01, 0.1])\n",
    "G   = p.size\n",
    "\n",
    "# I create the synthetic data with the random noise   \n",
    "R    = Click (N, eta, p, G)\n",
    "freq = 2 * np.power(10, 7) #Repetition rate of the laser (s^(-1))\n",
    "t    = 100 #Time integration (s)\n",
    "\n",
    "#Data_simul = R + np.sqrt(R*(1-R)/(freq * t)) #with real noise\n",
    "Data_simul = R  + np.random.rand(len(N))*0.001\n",
    "\n",
    "\n",
    "min(R)"
   ]
  },
  {
   "cell_type": "markdown",
   "metadata": {},
   "source": [
    "###### In the cell above I have a problem. If I insert the Data_simul without noise or with the real noise I get error in the fitting. Also I get the error if I make the random noise really small."
   ]
  },
  {
   "cell_type": "code",
   "execution_count": 9,
   "metadata": {
    "collapsed": false
   },
   "outputs": [
    {
     "name": "stdout",
     "output_type": "stream",
     "text": [
      "      fun: 89.13867596758746\n",
      " hess_inv: <4x4 LbfgsInvHessProduct with dtype=float64>\n",
      "      jac: array([ 0.01376179,  0.0081755 , -0.00025864, -0.00024301])\n",
      "  message: b'CONVERGENCE: REL_REDUCTION_OF_F_<=_FACTR*EPSMCH'\n",
      "     nfev: 345\n",
      "      nit: 52\n",
      "   status: 0\n",
      "  success: True\n",
      "        x: array([ 0.00998171,  0.00065904,  0.00917123,  0.10610039])\n"
     ]
    }
   ],
   "source": [
    "f = FUNC2MINIMIZE\n",
    "\n",
    "\n",
    "bnds = ((0,1),) * (len(p)+1) #This boundaries for all my variables\n",
    "x0 = np.array([0.01, 0.0, 0.02, 0.3]) #Initial guesses\n",
    "x_opt = optimize.minimize(f, x0, bounds = bnds)\n",
    "print(x_opt)\n",
    "\n"
   ]
  },
  {
   "cell_type": "markdown",
   "metadata": {},
   "source": [
    "We want to compare our experimental data with the simulation of this results using the fitted parameters."
   ]
  },
  {
   "cell_type": "code",
   "execution_count": 10,
   "metadata": {
    "collapsed": false
   },
   "outputs": [
    {
     "data": {
      "text/plain": [
       "<matplotlib.legend.Legend at 0x7f51713e3f60>"
      ]
     },
     "execution_count": 10,
     "metadata": {},
     "output_type": "execute_result"
    },
    {
     "data": {
      "image/png": "[encoded data removed]",
      "text/plain": [
       "<matplotlib.figure.Figure at 0x7f51714257b8>"
      ]
     },
     "metadata": {},
     "output_type": "display_data"
    }
   ],
   "source": [
    "FIT = Click(N, x_opt.x[0], x_opt.x[1:], len(x_opt.x)-1)\n",
    "\n",
    "plt.loglog(N, FIT, 'b')\n",
    "plt.loglog(N, Data_simul, 'r')\n",
    "\n",
    "plt.xlabel('log(N)', fontsize=20)\n",
    "plt.ylabel('log(R(N))', fontsize=20)\n",
    "plt.legend(['Fit', 'Experimental'], loc=0)"
   ]
  },
  {
   "cell_type": "markdown",
   "metadata": {},
   "source": [
    "## LET'S DO THE SAME WITH A LOOP"
   ]
  },
  {
   "cell_type": "markdown",
   "metadata": {},
   "source": [
    "Now I will make a loop for minimizating for several number of parameters and after look for the one which has the minimum $\\chi^2$ "
   ]
  },
  {
   "cell_type": "code",
   "execution_count": 60,
   "metadata": {
    "collapsed": false
   },
   "outputs": [],
   "source": [
    "N   = np.linspace(0.1, 1000, 100000) #Number of photons (independet variable)\n",
    "eta = 0.01 #Efficiency\n",
    "p   = np.arange(11)/10\n",
    "G   = p.size\n",
    "\n",
    "# I create the synthetic data with the random noise   \n",
    "R    = Click (N, eta, p, G)\n",
    "freq = 2 * np.power(10, 7) #Repetition rate of the laser (s)\n",
    "t    = 100 #Time integration (s)\n",
    "\n",
    "#Data_simul = R + np.sqrt(R*(1-R)/(freq * t))\n",
    "Data_simul = R  + np.random.rand(len(N))*0.001"
   ]
  },
  {
   "cell_type": "code",
   "execution_count": 69,
   "metadata": {
    "collapsed": false,
    "scrolled": true
   },
   "outputs": [
    {
     "name": "stdout",
     "output_type": "stream",
     "text": [
      "Parameters iterating: 4\n",
      "Iteration time: 1.8932859999999891\n",
      "Parameters [ 0.00462729  0.0005134   0.25322497  0.35402311]\n",
      "Parameters iterating: 5\n",
      "Iteration time: 5.009942000000137\n",
      "Parameters [ 0.00608071  0.00063647  0.17700196  0.43210555  0.31366396]\n",
      "Parameters iterating: 6\n",
      "Iteration time: 8.277928999999858\n",
      "Parameters [ 0.00704897  0.0006102   0.1557618   0.32676949  0.48526896  0.48527599]\n",
      "Parameters iterating: 7\n",
      "Iteration time: 22.321840000000066\n",
      "Parameters [ 0.00802302  0.00060014  0.1378648   0.27946428  0.41967169  0.5694071\n",
      "  0.57325822]\n",
      "Parameters iterating: 8\n",
      "Iteration time: 30.10703599999988\n",
      "Parameters [  9.01524095e-03   6.10035541e-04   1.21725916e-01   2.61038559e-01\n",
      "   3.24686976e-01   5.59820927e-01   6.16252347e-01   6.11777425e-01]\n",
      "Parameters iterating: 9\n"
     ]
    },
    {
     "name": "stderr",
     "output_type": "stream",
     "text": [
      "/home/jaime/anaconda3/lib/python3.5/site-packages/ipykernel/__main__.py:6: RuntimeWarning: divide by zero encountered in true_divide\n",
      "/home/jaime/anaconda3/lib/python3.5/site-packages/scipy/optimize/optimize.py:628: RuntimeWarning: invalid value encountered in double_scalars\n",
      "  grad[k] = (f(*((xk + d,) + args)) - f0) / d[k]\n"
     ]
    },
    {
     "name": "stdout",
     "output_type": "stream",
     "text": [
      "Iteration time: 77.25381000000016\n",
      "Parameters [  9.73769748e-03   6.08243552e-04   1.12934292e-01   2.37501362e-01\n",
      "   3.24820144e-01   4.63141906e-01   5.91847407e-01   6.92147904e-01\n",
      "   7.16331369e-01]\n",
      "Parameters iterating: 10\n",
      "Iteration time: 45.84408099999973\n",
      "Parameters [  1.06893597e-02   6.09688621e-04   1.02822483e-01   2.16088111e-01\n",
      "   3.01527144e-01   4.08466566e-01   5.33795646e-01   6.58647821e-01\n",
      "   7.14200173e-01   7.38189036e-01]\n",
      "Parameters iterating: 11\n",
      "Iteration time: 79.87509100000034\n",
      "Parameters [  1.13905379e-02   6.03092723e-04   9.70868563e-02   1.96674785e-01\n",
      "   3.00534399e-01   3.78310962e-01   4.69425363e-01   6.15182115e-01\n",
      "   7.16930818e-01   7.72982790e-01   7.76444463e-01]\n",
      "Parameters iterating: 12\n",
      "Iteration time: 108.11792299999979\n",
      "Parameters [  1.22009757e-02   6.07381672e-04   9.03260191e-02   1.87158429e-01\n",
      "   2.67149520e-01   3.73709987e-01   4.36035756e-01   5.54312114e-01\n",
      "   6.61507824e-01   7.48979816e-01   7.89662318e-01   8.18070124e-01]\n"
     ]
    }
   ],
   "source": [
    "f = FUNC2MINIMIZE\n",
    "\n",
    "m0 = 4 #Number of parameters of the first fit (including eta)\n",
    "m = 12 #Number of parameters of the last fit (including eta)\n",
    "# I think that we won't go further than m=6\n",
    "\n",
    "x0_values = np.array([0.01, 0, 0.1, 0.2])\n",
    "min_chi   = np.empty(m-m0+1)\n",
    "\n",
    "\n",
    "for i in range(m0, m+1):\n",
    "    bnds = ((0,1),) * (i) #This boundaries for all my variables\n",
    "    x01 = x0_values[0:i-1]\n",
    "    x0 = np.append(x01, x01[-1] + 0.1)\n",
    "    print('Parameters iterating:', i)\n",
    "    tic = time.clock()\n",
    "    x_opt = optimize.minimize(f, x0, bounds = bnds)\n",
    "    toc = time.clock()\n",
    "    print('Iteration time:', toc-tic)\n",
    "    x0_values = x_opt.x\n",
    "    min_chi[i-m0] = x_opt.fun \n",
    "    print('Parameters', x0_values)\n"
   ]
  },
  {
   "cell_type": "code",
   "execution_count": 62,
   "metadata": {
    "collapsed": false
   },
   "outputs": [
    {
     "data": {
      "text/plain": [
       "(1, 13)"
      ]
     },
     "execution_count": 62,
     "metadata": {},
     "output_type": "execute_result"
    },
    {
     "data": {
      "image/png": "[encoded data removed]",
      "text/plain": [
       "<matplotlib.figure.Figure at 0x7f51716b11d0>"
      ]
     },
     "metadata": {},
     "output_type": "display_data"
    }
   ],
   "source": [
    "plt.plot(np.arange(m0,m+1), min_chi, 'r+')\n",
    "\n",
    "\n",
    "plt.xlabel('Number of parameters', fontsize=20)\n",
    "plt.ylabel('$\\chi^2$', fontsize=20)\n",
    "plt.legend(['Fit'], loc=0)\n",
    "\n",
    "plt.xlim([m0-1, m+1])"
   ]
  },
  {
   "cell_type": "code",
   "execution_count": 63,
   "metadata": {
    "collapsed": false
   },
   "outputs": [
    {
     "data": {
      "text/plain": [
       "11.828962882747033"
      ]
     },
     "execution_count": 63,
     "metadata": {},
     "output_type": "execute_result"
    }
   ],
   "source": [
    "min(min_chi) \n",
    "#Also know for which number of parameters is this"
   ]
  },
  {
   "cell_type": "code",
   "execution_count": 68,
   "metadata": {
    "collapsed": false
   },
   "outputs": [
    {
     "name": "stdout",
     "output_type": "stream",
     "text": [
      "[ 0.          0.11111111  0.22222222  0.33333333  0.44444444  0.55555556\n",
      "  0.66666667  0.77777778  0.88888889  1.        ]\n",
      "[  1.16960165e-02   6.13809767e-04   9.36154341e-02   2.02998673e-01\n",
      "   2.46054940e-01   4.38930944e-01   4.57243242e-01   5.25370705e-01\n",
      "   6.81194660e-01   8.09331015e-01   8.66430097e-01   8.42764733e-01]\n"
     ]
    }
   ],
   "source": [
    "print(p)\n",
    "print(x_opt.x)"
   ]
  },
  {
   "cell_type": "code",
   "execution_count": null,
   "metadata": {
    "collapsed": false
   },
   "outputs": [],
   "source": [
    "FIT = Click(N, x_opt.x[0], x_opt.x[1:], len(x_opt.x)-1)\n",
    "\n",
    "plt.loglog(N, FIT, 'b')\n",
    "plt.loglog(N, Data_simul, 'r')\n",
    "\n",
    "plt.xlabel('log(N)', fontsize=20)\n",
    "plt.ylabel('log(R(N))', fontsize=20)\n",
    "plt.legend(['Fit', 'Experimental'], loc=0)"
   ]
  },
  {
   "cell_type": "code",
   "execution_count": null,
   "metadata": {
    "collapsed": false
   },
   "outputs": [],
   "source": []
  },
  {
   "cell_type": "code",
   "execution_count": null,
   "metadata": {
    "collapsed": false
   },
   "outputs": [],
   "source": []
  },
  {
   "cell_type": "code",
   "execution_count": null,
   "metadata": {
    "collapsed": false
   },
   "outputs": [],
   "source": []
  },
  {
   "cell_type": "code",
   "execution_count": null,
   "metadata": {
    "collapsed": true
   },
   "outputs": [],
   "source": []
  }
 ],
 "metadata": {
  "kernelspec": {
   "display_name": "Python 3",
   "language": "python",
   "name": "python3"
  },
  "language_info": {
   "codemirror_mode": {
    "name": "ipython",
    "version": 3
   },
   "file_extension": ".py",
   "mimetype": "text/x-python",
   "name": "python",
   "nbconvert_exporter": "python",
   "pygments_lexer": "ipython3",
   "version": "3.5.2"
  }
 },
 "nbformat": 4,
 "nbformat_minor": 0
}
