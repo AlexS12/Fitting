{
 "cells": [
  {
   "cell_type": "markdown",
   "metadata": {},
   "source": [
    "# Defining the click probability functions.\n",
    "The goal of this notebook is define a function for the click probability. \n",
    "First it's defined the simplest expression, the probablility without including the factor $\\eta$ and once it's known how to do it we define the complete function including $\\eta$. \n",
    "As I'm learning Python first I have calculated how to do it without a function for being sure what I was doing and after I define the function.\n"
   ]
  },
  {
   "cell_type": "code",
   "execution_count": 2,
   "metadata": {
    "collapsed": true
   },
   "outputs": [],
   "source": [
    "import numpy as np\n",
    "import matplotlib.pyplot as plt\n",
    "from scipy.misc import factorial\n",
    "%matplotlib inline\n",
    "\n",
    "import math\n",
    "import time\n"
   ]
  },
  {
   "cell_type": "markdown",
   "metadata": {},
   "source": [
    "Define first the function that I want to fit. I'll use first the easy version:\n",
    " $$R(N)=1-e^{-N}\\sum_{i=0}^m(1-p_i)\\frac{N^i}{i!}$$\n",
    " First of all we'll calculate step by step what we want to do in the function to understand what we're doing and after we'll write it in a function."
   ]
  },
  {
   "cell_type": "code",
   "execution_count": 3,
   "metadata": {
    "collapsed": false
   },
   "outputs": [],
   "source": [
    "#Let's calculate here step by step what we want to do in our function.\n",
    "N = np.array([0,1, 2, 3, 4, 5, 6]) #This will be the number of photons\n",
    "N_new = N[...,np.newaxis]\n",
    "p = np.array([1, 10, 100]) #This will be the probabilities for each \n",
    "                           #detection. (Values don't matter now)\n",
    "i = np.arange(len(p))"
   ]
  },
  {
   "cell_type": "code",
   "execution_count": 4,
   "metadata": {
    "collapsed": false
   },
   "outputs": [
    {
     "name": "stdout",
     "output_type": "stream",
     "text": [
      "[[ 1  0  0]\n",
      " [ 1  1  1]\n",
      " [ 1  2  4]\n",
      " [ 1  3  9]\n",
      " [ 1  4 16]\n",
      " [ 1  5 25]\n",
      " [ 1  6 36]]\n",
      "[[  1.    0.    0. ]\n",
      " [  1.    1.    0.5]\n",
      " [  1.    2.    2. ]\n",
      " [  1.    3.    4.5]\n",
      " [  1.    4.    8. ]\n",
      " [  1.    5.   12.5]\n",
      " [  1.    6.   18. ]]\n",
      "[[    0.     -0.     -0. ]\n",
      " [    0.     -9.    -49.5]\n",
      " [    0.    -18.   -198. ]\n",
      " [    0.    -27.   -445.5]\n",
      " [    0.    -36.   -792. ]\n",
      " [    0.    -45.  -1237.5]\n",
      " [    0.    -54.  -1782. ]]\n",
      "Sumation\n",
      "[    0.    -58.5  -216.   -472.5  -828.  -1282.5 -1836. ]\n",
      "R\n",
      "[  1.          22.52094731  30.23242118  24.5243898   16.165349\n",
      "   9.64141703   5.550989  ]\n"
     ]
    }
   ],
   "source": [
    "print(N_new**i)  #This result give us the in the first column the\n",
    "#vector N to the power of the first element of the i array.\n",
    "# In the second column gives the vector N to the power of the\n",
    "#second element of i and so on\n",
    "\n",
    "H = N_new**i/factorial(i) #Now each column is divided by the\n",
    "#corresponding i factorial value. First column divided by the\n",
    "#factorial of the first element of i\n",
    "print(H)\n",
    "multiplication = H*(1-p) #Same as for factorial(i)\n",
    "print(multiplication)\n",
    "\n",
    "Summation = np.sum(multiplication, axis = 1) #Here we sum the \n",
    "#elements of the same row because the belong to the same number \n",
    "#of N photons. As an output we obtain a vector that contains the\n",
    "#summation for each value of N\n",
    "print('Sumation')\n",
    "print(Summation)\n",
    "\n",
    "\n",
    "R = 1 - np.exp(-N) * Summation #The output is a vector that contais \n",
    "# the click probability for efficiency 1 for each value of N\n",
    "print('R')\n",
    "print(R)\n"
   ]
  },
  {
   "cell_type": "markdown",
   "metadata": {},
   "source": [
    "Now we're ready to define the function:  $$R(N)=1-e^{N}\\sum_{i=0}^m(1-p_i)\\frac{N^i}{i!}$$"
   ]
  },
  {
   "cell_type": "code",
   "execution_count": 5,
   "metadata": {
    "collapsed": false
   },
   "outputs": [],
   "source": [
    "def Click1 (N, p):\n",
    "#This function calculates the click probability for the simple\n",
    "#case with efficiency equals to 1.\n",
    "#Arguments: number of photons, N, and probability detection, p.\n",
    "#In general both will be arrays.\n",
    "    i = np.arange(len(p))\n",
    "    N_new = N[..., np.newaxis]\n",
    "    addend = (1-p) * N_new**i / factorial(i)  #This is a matrix that contains \n",
    "    # in each element one of the terms of the sumation. Each row corresponds\n",
    "    # to the terms with the same number of N photons. Each column corresponds \n",
    "    # with the index of the summation.\n",
    "    SUM = np.sum(addend, axis = 1) #each element of this vector is the sum for \n",
    "                              #each value of N\n",
    "        \n",
    "    # The returned value is a vector with the probabilities for each N\n",
    "    return (1 - np.exp(-N) * SUM)\n"
   ]
  },
  {
   "cell_type": "markdown",
   "metadata": {},
   "source": [
    "Now we'll create the complete function considering the efficiency $\\eta$. \n",
    "$$R(N)=1-e^{-\\eta N}\\sum_{i=0}^m(1-p_i)\\frac{(\\eta N)^i}{i!}$$"
   ]
  },
  {
   "cell_type": "code",
   "execution_count": 6,
   "metadata": {
    "collapsed": false
   },
   "outputs": [],
   "source": [
    "#Let's calculate here step by step what we want to do in our function.\n",
    "N = np.array([0, 1, 2, 3, 4, 5, 6]) #This will be the number of photons\n",
    "eta = np.array([1, 2]) #This all the possible efficiencies\n",
    "eta_new = eta[...,np.newaxis]\n",
    "i = np.arange(len(p))\n",
    "p = np.array([1, 10, 100]) #This will be the probabilities for each \n",
    "                           #detection. (Values don't matter now)\n",
    "\n"
   ]
  },
  {
   "cell_type": "code",
   "execution_count": 7,
   "metadata": {
    "collapsed": false
   },
   "outputs": [
    {
     "name": "stdout",
     "output_type": "stream",
     "text": [
      "[[[    0.     -0.     -0. ]\n",
      "  [    0.     -9.    -49.5]\n",
      "  [    0.    -18.   -198. ]\n",
      "  [    0.    -27.   -445.5]\n",
      "  [    0.    -36.   -792. ]\n",
      "  [    0.    -45.  -1237.5]\n",
      "  [    0.    -54.  -1782. ]]\n",
      "\n",
      " [[    0.     -0.     -0. ]\n",
      "  [    0.    -18.   -198. ]\n",
      "  [    0.    -36.   -792. ]\n",
      "  [    0.    -54.  -1782. ]\n",
      "  [    0.    -72.  -3168. ]\n",
      "  [    0.    -90.  -4950. ]\n",
      "  [    0.   -108.  -7128. ]]]\n",
      "[[    0.    -58.5  -216.   -472.5  -828.  -1282.5 -1836. ]\n",
      " [    0.   -216.   -828.  -1836.  -3240.  -5040.  -7236. ]]\n",
      "[[  1.          22.52094731  30.23242118  24.5243898   16.165349\n",
      "    9.64141703   5.550989  ]\n",
      " [  1.          30.23242118  16.165349     5.550989     2.08689891\n",
      "    1.22881565   1.04445952]]\n"
     ]
    }
   ],
   "source": [
    "Neta = (N * eta_new)\n",
    "#print(Neta)\n",
    "Neta_new = Neta[...,np.newaxis]\n",
    "addend = Neta_new**i / factorial(i) * (1-p)\n",
    "print(addend)\n",
    "\n",
    "SUM = np.sum(addend, axis = 2)\n",
    "print(SUM)\n",
    "\n",
    "#Now I have to multiply everything with the exponential that contais eta and N\n",
    "\n",
    "R = 1-np.exp(-Neta)*SUM\n",
    "print (R)"
   ]
  },
  {
   "cell_type": "code",
   "execution_count": 8,
   "metadata": {
    "collapsed": false
   },
   "outputs": [],
   "source": [
    "def Click2 (N, eta, p):\n",
    "# This function calculates the click probability for the simple\n",
    "# case without taking into account efficiency.\n",
    "# Arguments: efficiency of the detector, eta; number of photons,\n",
    "# N, and probability detection, p. In general all will be arrays.\n",
    "\n",
    "    i = np.arange(len(p))\n",
    "    eta_new = eta[...,np.newaxis]\n",
    "    Neta = N * eta_new # First row of this matrix is N multiplied by eta1\n",
    "                       # Second row is N multiplied by eta2, ...\n",
    "    Neta_new = Neta[..., np.newaxis]\n",
    "    addend = Neta_new**i / factorial(i) * (1-p) # We have a 3D array.\n",
    "    # addend[i,j,k]. Index i is related with eta. Index j is related with N.\n",
    "    # Index is related with i (iteration number of te series, not confuse with index i)\n",
    "    \n",
    "    SUM = np.sum(addend, axis = 2) #The result is a matrix. Each row corresponds\n",
    "    # with a different efficiency. Each column correspond to a different number N\n",
    "    # of photons\n",
    "    \n",
    "    return (1 - np.exp(-Neta) * SUM) # Same as in SUM\n"
   ]
  },
  {
   "cell_type": "markdown",
   "metadata": {},
   "source": [
    "## Testing the functions\n",
    "Now we're going to do some tests to check if the results of the functions are consistent."
   ]
  },
  {
   "cell_type": "code",
   "execution_count": 9,
   "metadata": {
    "collapsed": false
   },
   "outputs": [],
   "source": [
    "N = np.array([1, 2, 3, 4, 5, 6]) #This will be the number of photons\n",
    "eta = np.arange(2) /1 #This all the possible efficiencies\n",
    "p = np.arange(6)/5 "
   ]
  },
  {
   "cell_type": "code",
   "execution_count": 10,
   "metadata": {
    "collapsed": false
   },
   "outputs": [
    {
     "data": {
      "text/plain": [
       "array([[ 0.,  0.,  0.,  0.,  0.,  0.]])"
      ]
     },
     "execution_count": 10,
     "metadata": {},
     "output_type": "execute_result"
    }
   ],
   "source": [
    "Click1 (N, p)-Click2 (N, np.array([1]), p)"
   ]
  },
  {
   "cell_type": "markdown",
   "metadata": {},
   "source": [
    "For the case $\\eta = 1$ both functions give the same result"
   ]
  },
  {
   "cell_type": "markdown",
   "metadata": {},
   "source": [
    "# Click probabilities with a loop"
   ]
  },
  {
   "cell_type": "markdown",
   "metadata": {},
   "source": [
    "Here we calculate also the click probability but now using loops, which probabily is faster."
   ]
  },
  {
   "cell_type": "code",
   "execution_count": 11,
   "metadata": {
    "collapsed": false
   },
   "outputs": [],
   "source": [
    "\n",
    "def Click3(N, eta, p):\n",
    "        i = 0\n",
    "        summ = 0\n",
    "        j = 0\n",
    "        R = np.zeros((len(eta),len(N)))\n",
    "        while (j< len(eta)):\n",
    "            while (i < len(p)):\n",
    "                summ = summ + (1-p[i]) * (eta[j]*N)**i / factorial(i)\n",
    "                i=i+1\n",
    "            \n",
    "            R[j,:] = 1-np.exp(-eta[j]*N)*summ\n",
    "            j = j+1\n",
    "        return R"
   ]
  },
  {
   "cell_type": "markdown",
   "metadata": {},
   "source": [
    "First we want to check that we obtin the same results with Click3 and Click2"
   ]
  },
  {
   "cell_type": "code",
   "execution_count": 12,
   "metadata": {
    "collapsed": false
   },
   "outputs": [
    {
     "name": "stdout",
     "output_type": "stream",
     "text": [
      "[[ 0.          0.          0.          0.          0.          0.          0.\n",
      "   0.          0.          0.        ]\n",
      " [ 0.          0.44882503  0.45450374  0.33882953  0.21826455  0.12785839\n",
      "   0.06984298  0.0361268   0.01788199  0.00853519]]\n"
     ]
    }
   ],
   "source": [
    "N = np.linspace(0,10,10) #This will be the number of photons\n",
    "eta = np.arange(2) /1 #This all the possible efficiencies\n",
    "p = np.arange(6) /5\n",
    "\n",
    "print(Click3(N,eta,p)-Click2(N,eta,p))\n",
    "\n",
    "\n"
   ]
  },
  {
   "cell_type": "markdown",
   "metadata": {},
   "source": [
    "The result shows that for efficiency 1 the results are the same but for different efficiency the result changes, therefore there is an error."
   ]
  },
  {
   "cell_type": "code",
   "execution_count": null,
   "metadata": {
    "collapsed": false
   },
   "outputs": [],
   "source": [
    "#ticB = time.clock()\n",
    "#Click3(N,eta,p)  #Fastest\n",
    "#tocB = time.clock()\n",
    "\n",
    "\n",
    "#tic = time.clock()\n",
    "#Diif = Click2(N,eta,p)-Click3(N,eta,p)\n",
    "#toc = time.clock()\n",
    "\n",
    "#B = tocB-ticB\n",
    "#print(B)\n",
    "#C = toc-tic\n",
    "#print(C)\n",
    "#B-C\n",
    "\n",
    "#print(Click2(N,eta,p))\n",
    "\n",
    "\n",
    "#print(Click3(N,np.array([1]),p)-Click1(N,p))\n",
    "#print(Click2(N,np.array([1]),p)-Click1(N,p))"
   ]
  },
  {
   "cell_type": "code",
   "execution_count": null,
   "metadata": {
    "collapsed": true
   },
   "outputs": [],
   "source": []
  },
  {
   "cell_type": "code",
   "execution_count": null,
   "metadata": {
    "collapsed": true
   },
   "outputs": [],
   "source": []
  }
 ],
 "metadata": {
  "kernelspec": {
   "display_name": "Python 3",
   "language": "python",
   "name": "python3"
  }
 },
 "nbformat": 4,
 "nbformat_minor": 0
}
